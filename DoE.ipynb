{
 "cells": [
  {
   "cell_type": "code",
   "execution_count": 2,
   "metadata": {
    "collapsed": true
   },
   "outputs": [],
   "source": [
    "from pyDOE import *\n"
   ]
  },
  {
   "cell_type": "code",
   "execution_count": 5,
   "metadata": {},
   "outputs": [
    {
     "name": "stdout",
     "output_type": "stream",
     "text": [
      "[[-1.         -1.        ]\n",
      " [ 1.         -1.        ]\n",
      " [-1.          1.        ]\n",
      " [ 1.          1.        ]\n",
      " [ 0.          0.        ]\n",
      " [ 0.          0.        ]\n",
      " [ 0.          0.        ]\n",
      " [ 0.          0.        ]\n",
      " [-1.41421356  0.        ]\n",
      " [ 1.41421356  0.        ]\n",
      " [ 0.         -1.41421356]\n",
      " [ 0.          1.41421356]\n",
      " [ 0.          0.        ]\n",
      " [ 0.          0.        ]\n",
      " [ 0.          0.        ]\n",
      " [ 0.          0.        ]] 16\n"
     ]
    },
    {
     "name": "stderr",
     "output_type": "stream",
     "text": [
      "/home/ubuntu/anaconda3/lib/python3.6/site-packages/pyDOE/doe_factorial.py:78: VisibleDeprecationWarning: using a non-integer number instead of an integer will result in an error in the future\n",
      "  rng = lvl*range_repeat\n"
     ]
    }
   ],
   "source": [
    "dm = ccdesign(2)\n",
    "print(dm, len(dm))"
   ]
  },
  {
   "cell_type": "code",
   "execution_count": 18,
   "metadata": {},
   "outputs": [
    {
     "name": "stdout",
     "output_type": "stream",
     "text": [
      "[[-0.59460356 -0.59460356 -0.59460356]\n",
      " [ 0.59460356 -0.59460356 -0.59460356]\n",
      " [-0.59460356  0.59460356 -0.59460356]\n",
      " [ 0.59460356  0.59460356 -0.59460356]\n",
      " [-0.59460356 -0.59460356  0.59460356]\n",
      " [ 0.59460356 -0.59460356  0.59460356]\n",
      " [-0.59460356  0.59460356  0.59460356]\n",
      " [ 0.59460356  0.59460356  0.59460356]\n",
      " [-1.          0.          0.        ]\n",
      " [ 1.          0.          0.        ]\n",
      " [ 0.         -1.          0.        ]\n",
      " [ 0.          1.          0.        ]\n",
      " [ 0.          0.         -1.        ]\n",
      " [ 0.          0.          1.        ]\n",
      " [ 0.          0.          0.        ]\n",
      " [ 0.          0.          0.        ]\n",
      " [ 0.          0.          0.        ]\n",
      " [ 0.          0.          0.        ]\n",
      " [ 0.          0.          0.        ]] 19\n"
     ]
    },
    {
     "name": "stderr",
     "output_type": "stream",
     "text": [
      "/home/ubuntu/anaconda3/lib/python3.6/site-packages/pyDOE/doe_factorial.py:78: VisibleDeprecationWarning: using a non-integer number instead of an integer will result in an error in the future\n",
      "  rng = lvl*range_repeat\n"
     ]
    }
   ],
   "source": [
    "d2 = ccdesign(3, center=(0, 5), alpha='r', face='cci')\n",
    "print(d2, len(d2))"
   ]
  },
  {
   "cell_type": "code",
   "execution_count": 16,
   "metadata": {
    "collapsed": true
   },
   "outputs": [],
   "source": [
    "import xlsxwriter\n",
    "\n",
    "workbook = xlsxwriter.Workbook('arrays.xlsx')\n",
    "worksheet = workbook.add_worksheet()\n",
    "\n",
    "array = d2\n",
    "\n",
    "row = 0\n",
    "\n",
    "for col, data in enumerate(array):\n",
    "    worksheet.write_column(row, col, data)\n",
    "\n",
    "workbook.close()"
   ]
  },
  {
   "cell_type": "code",
   "execution_count": 27,
   "metadata": {},
   "outputs": [
    {
     "name": "stdout",
     "output_type": "stream",
     "text": [
      "<built-in method transpose of numpy.ndarray object at 0x7f73b85e8a80>\n"
     ]
    },
    {
     "name": "stderr",
     "output_type": "stream",
     "text": [
      "/home/ubuntu/anaconda3/lib/python3.6/site-packages/pyDOE/doe_factorial.py:78: VisibleDeprecationWarning: using a non-integer number instead of an integer will result in an error in the future\n",
      "  rng = lvl*range_repeat\n"
     ]
    }
   ],
   "source": [
    "t = ff2n(3)\n",
    "t = t.transpose\n",
    "print(t)"
   ]
  },
  {
   "cell_type": "code",
   "execution_count": 23,
   "metadata": {
    "collapsed": true
   },
   "outputs": [],
   "source": [
    "workbook = xlsxwriter.Workbook('arrays.xlsx')\n",
    "worksheet = workbook.add_worksheet()\n",
    "\n",
    "array = d2\n",
    "\n",
    "row = 0\n",
    "\n",
    "for col, data in enumerate(t):\n",
    "    worksheet.write_column(row, col, data)\n",
    "\n",
    "workbook.close()"
   ]
  },
  {
   "cell_type": "code",
   "execution_count": 29,
   "metadata": {},
   "outputs": [
    {
     "name": "stderr",
     "output_type": "stream",
     "text": [
      "/home/ubuntu/anaconda3/lib/python3.6/site-packages/pyDOE/doe_factorial.py:78: VisibleDeprecationWarning: using a non-integer number instead of an integer will result in an error in the future\n",
      "  rng = lvl*range_repeat\n"
     ]
    },
    {
     "data": {
      "text/plain": [
       "array([[-1., -1., -1.],\n",
       "       [ 1., -1., -1.],\n",
       "       [-1.,  1., -1.],\n",
       "       [ 1.,  1., -1.],\n",
       "       [-1., -1.,  1.],\n",
       "       [ 1., -1.,  1.],\n",
       "       [-1.,  1.,  1.],\n",
       "       [ 1.,  1.,  1.]])"
      ]
     },
     "execution_count": 29,
     "metadata": {},
     "output_type": "execute_result"
    }
   ],
   "source": [
    "ff2n(3)"
   ]
  },
  {
   "cell_type": "code",
   "execution_count": null,
   "metadata": {
    "collapsed": true
   },
   "outputs": [],
   "source": []
  }
 ],
 "metadata": {
  "kernelspec": {
   "display_name": "Python 3",
   "language": "python",
   "name": "python3"
  },
  "language_info": {
   "codemirror_mode": {
    "name": "ipython",
    "version": 3
   },
   "file_extension": ".py",
   "mimetype": "text/x-python",
   "name": "python",
   "nbconvert_exporter": "python",
   "pygments_lexer": "ipython3",
   "version": "3.6.1"
  }
 },
 "nbformat": 4,
 "nbformat_minor": 2
}
